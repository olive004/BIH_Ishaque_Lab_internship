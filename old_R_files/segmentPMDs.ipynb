{
 "cells": [
  {
   "cell_type": "markdown",
   "metadata": {},
   "source": [
    "# Rewriting segmentPMDs function to python\n",
    "\n",
    "Because of complications with dependencies in the R program MethylSeekR, as well as the fact that the segmentPMDs funciton is one of the only functions from MethylSeekR I need for this project, I will attempt to make a python version of the function.\n",
    "\n",
    "Heavily using MethylSeekR source https://rdrr.io/bioc/MethylSeekR/\n",
    "and the hmm package for R https://github.com/jaredo/mhsmm\n",
    "and plan on using python's hmmlearn function https://hmmlearn.readthedocs.io/en/latest/api.html#hmmlearn-hmm"
   ]
  },
  {
   "cell_type": "code",
   "execution_count": 2,
   "metadata": {},
   "outputs": [],
   "source": [
    "# imports\n",
    "import numpy as np\n",
    "from numpy import array\n",
    "from numpy import reshape"
   ]
  },
  {
   "cell_type": "markdown",
   "metadata": {},
   "source": [
    "class hmmlearn.hmm.GaussianHMM(n_components=1, covariance_type='diag', min_covar=0.001, startprob_prior=1.0, transmat_prior=1.0, means_prior=0, means_weight=0, covars_prior=0.01, covars_weight=1, algorithm='viterbi', random_state=None, n_iter=10, tol=0.01, verbose=False, params='stmc', init_params='stmc')"
   ]
  },
  {
   "cell_type": "code",
   "execution_count": null,
   "metadata": {},
   "outputs": [],
   "source": [
    "\n",
    "def segmentPMDs():\n",
    "    methylome\n",
    "    T\n",
    "    M\n",
    "    model = hmm.Gaussian(n_components=2, covariance_type='diag', min_covar=0.001, startprob_prior=1.0)\n",
    "    \n",
    "    init = array(0,1)    # Starting distribution? \"Distribution of states at t=1 ie. P(S=s) at t=1\"\n",
    "    parms_emission = [mu=array(0.3867895, 1.1690474), sigma=array(0.01649962, 0.14378640)]\n",
    "    model.startprob_   # Starting probabilities for all the states\n",
    "    \n",
    "    scores_training = calculateAlphaDistr <-\n",
    "function(M, T, nCGbin, num.cores){\n",
    "\n",
    "  binSize = 0.1   # \"bin size to discretize alpha values\"\n",
    "  alphas = np.arange(binSize, 3, binSize) # \"discretized alphas (listed)\" \n",
    "\n",
    "  logPs <- mclapply(alphas, function(a){\n",
    "    as.vector(runsum(Rle(lbeta(M+a, T-M+a) - lbeta(a, a)), k=nCGbin, endrule=\"constant\")) \n",
    "  }, mc.cores=num.cores)\n",
    "  \n",
    "  logPs <- do.call(\"cbind\", logPs)\n",
    "  score <- apply(logPs, 1, function(x){m=max(x); p=exp(x-m); p=p/sum(p); sum(p*alphas)})\n",
    "  score\n",
    "\n",
    "}\n",
    "\n",
    "\n",
    "\n",
    "    \n",
    "    J = 2\n",
    "    # Transition matrix (matrix of transition probabilities)\n",
    "    # \"use parameters obtained from training on human IMR90 methylome as starting values\"\n",
    "    model.transmat_ = np.transpose(array(0.998297563, 0.001702437, 0.002393931, 0.997606069).reshape(J, J)) \n",
    "    \n",
    "    \n",
    "    <-\n",
    "function(m, chr.sel, pdfFilename = NULL, seqLengths, num.cores = 1, nCGbin = 101){ \n",
    "\n",
    "  hmm.model <- trainPMDHMM(m, chr.sel, nCGbin, num.cores, plot.distr=TRUE, pdfFilename)\n",
    "  y.list <- PMDviterbiSegmentation(m, hmm.model, nCGbin, num.cores)\n",
    "  segments <- createGRangesObjectPMDSegmentation(m, y.list, num.cores, seqLengths)\n",
    "  segments\n",
    "   \n",
    " }\n",
    "\n"
   ]
  },
  {
   "cell_type": "code",
   "execution_count": null,
   "metadata": {},
   "outputs": [],
   "source": [
    "trainPMDHMM <-\n",
    "function(m, chr.sel, nCGbin, num.cores, plot.distr=TRUE, pdfFilename){\n",
    "\n",
    "  message(\"training PMD-HMM on chromosome \", chr.sel)\n",
    "\n",
    "  indx <- as.character(seqnames(m))==chr.sel\n",
    "  if(sum(indx)<nCGbin)\n",
    "    stop(sprintf(\"Error: less than %d covered CpGs on chromosome %s\", nCGbin, chr.sel))\n",
    "  \n",
    "  T <- as.numeric(values(m[indx])[, 1])\n",
    "  M <- as.numeric(values(m[indx])[, 2])\n",
    "  score <- calculateAlphaDistr(M, T, nCGbin, num.cores)\n",
    "\n",
    "  \n",
    " # use parameters obtained from training on human IMR90 methylome as starting values\n",
    "  J=2;\n",
    "  init0 <- c(0, 1);\n",
    "  P0 <- t(matrix(c(0.998297563, 0.001702437, 0.002393931, 0.997606069), nrow=J, ncol=J));\n",
    "  b0 <- list(mu=c(0.3867895, 1.1690474), sigma=c(0.01649962, 0.14378640))\n",
    "  startval <- hmmspec(init=init0, trans=P0, parms.emission=b0, dens.emission=dnorm.hsmm);\n",
    "# train\n",
    "  train <- list(x=score, N=length(score));\n",
    "  startval <- hmmfit(train, startval, mstep=mstep.norm)$model\n",
    "\n",
    "  if(plot.distr){\n",
    "    x=seq(0, 3, by=0.01)\n",
    "    if(!is.null(pdfFilename)){\n",
    "    pdf(pdfFilename, width=5, height=5)}\n",
    "    hist(score, probability=TRUE, breaks=30, xlab=sprintf(\"posterior mean of alpha (%s)\", chr.sel), main=\"\");lines(x, dnorm(x, mean=startval$parms.emission$mu[1], sd=sqrt(startval$parms.emission$sigma[1])), type='l', col=\"red\");lines(x, dnorm(x, mean=startval$parms.emission$mu[2], sd=sqrt(startval$parms.emission$sigma[2])), type='l', col=\"green\");\n",
    "    if(!is.null(pdfFilename))\n",
    "    dev.off()\n",
    "  }\n",
    "  \n",
    "  startval\n",
    "  \n",
    "}"
   ]
  },
  {
   "cell_type": "code",
   "execution_count": null,
   "metadata": {},
   "outputs": [],
   "source": []
  }
 ],
 "metadata": {
  "kernelspec": {
   "display_name": "Python 3",
   "language": "python",
   "name": "python3"
  },
  "language_info": {
   "codemirror_mode": {
    "name": "ipython",
    "version": 3
   },
   "file_extension": ".py",
   "mimetype": "text/x-python",
   "name": "python",
   "nbconvert_exporter": "python",
   "pygments_lexer": "ipython3",
   "version": "3.7.3"
  }
 },
 "nbformat": 4,
 "nbformat_minor": 4
}
