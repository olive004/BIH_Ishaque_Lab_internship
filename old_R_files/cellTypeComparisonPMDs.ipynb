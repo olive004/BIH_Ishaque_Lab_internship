{
 "cells": [
  {
   "cell_type": "markdown",
   "metadata": {},
   "source": [
    "# Cell-Type Deconvolution\n",
    "Comparing PMDs between cell types. Methylomes from IHEC database https://epigenomesportal.ca/ihec/grid.html?assembly=1&build=2018-10 using hg19 and only blood t cell and monocyte WGBS samples, which were pre-processed after download in another file 'convBigWigToRDS' to compress the .bigwig filetype to a GRanges object with the metadata columns changed from 'score' to a T and an M column, which represent the total number of reads and of those the methylation reads, respectively. This preprocessing is necessary for the segmentPMDs() function from MethylSeekR to work."
   ]
  },
  {
   "cell_type": "code",
   "execution_count": 8,
   "metadata": {},
   "outputs": [
    {
     "ename": "ERROR",
     "evalue": "Error in library(MethylSeekR): there is no package called 'MethylSeekR'\n",
     "output_type": "error",
     "traceback": [
      "Error in library(MethylSeekR): there is no package called 'MethylSeekR'\nTraceback:\n",
      "1. library(MethylSeekR)"
     ]
    }
   ],
   "source": [
    "library(MethylSeekR)\n",
    "\n",
    "# DataFrames underlying GRanges\n",
    "library(S4Vectors)\n",
    "\n",
    "# For importing .bigwig files: https://kasperdanielhansen.github.io/genbioconductor/html/rtracklayer_Import.html\n",
    "library(rtracklayer)\n",
    "library(AnnotationHub)\n",
    "library(Rsamtools)"
   ]
  },
  {
   "cell_type": "markdown",
   "metadata": {},
   "source": [
    "# Loading Data\n",
    "\n",
    "Can use readRDS() or load() function to load in the GRanges files that were preprocessed as described above. The load() fxn IS DEPRECATED FOR RDS SO WE CAN'T USE IT BUT allows the environment to be specified where the data should be loaded to, which is useful since the data variable names are otherwise not easily accessible."
   ]
  },
  {
   "cell_type": "code",
   "execution_count": 2,
   "metadata": {},
   "outputs": [],
   "source": [
    "# Testing jupyter lab directory\n",
    "# print"
   ]
  },
  {
   "cell_type": "code",
   "execution_count": 4,
   "metadata": {},
   "outputs": [
    {
     "name": "stdout",
     "output_type": "stream",
     "text": [
      "[1] \"/home/ishaque/jupyter/jupyter_notebooks/olivia//importedBigWig_tcells_1\"\n"
     ]
    }
   ],
   "source": [
    "# Loading data in\n",
    "\n",
    "# pathnames_monos <- list.files(path = \"/Users/oliviagallup/Desktop/Kode\", pattern=\"importedBigWig_monocytes\", full.names = TRUE)\n",
    "# pathnames_tcells <- list.files(path = \"/Users/oliviagallup/Desktop/Kode\", pattern=\"importedBigWig_tcells\", full.names = TRUE)\n",
    "\n",
    "pathnames_tcells_temp_directory <- list.files(path = \"/home/ishaque/jupyter/jupyter_notebooks/olivia/\", pattern=\"importedBigWig_tcells\", full.names = TRUE)\n",
    "\n",
    "\n",
    "# monocytes.env <- new.env()\n",
    "tcells.env <- new.env()\n",
    "\n",
    "\n",
    "\n",
    "# I DON'T HAVE ENOUGH STORAGE TO USE ALL THE FILES I'VE LOADED, GONNA LOAD 1 FOR NOW\n",
    "# pathnames_monos_subset <- pathnames_monos[2]\n",
    "# pathnames_tcells_subset <- pathnames_tcells[1]\n",
    "\n",
    "pathnames_tcells_subset <- pathnames_tcells_temp_directory[1]\n",
    "\n",
    "\n",
    "# file_count <- 1\n",
    "# for (i in pathnames_monos_subset) {\n",
    "#     nam <- paste(\"monocyte_\", file_count, sep = \"\")  # Creating new variable name for data\n",
    "#     assign(nam, readRDS(i), envir=monocytes.env)    # Set new var name equal to retrieved R obj\n",
    "    \n",
    "#     file_count <- file_count +1\n",
    "# }\n",
    "file_count <- 1\n",
    "for (i in pathnames_tcells_subset) {\n",
    "    nam <- paste(\"tcell_\", file_count, sep = \"\")  # \n",
    "    assign(nam, readRDS(i), envir=tcells.env)\n",
    "    \n",
    "    file_count <- file_count +1\n",
    "}\n",
    "\n",
    "print(pathnames_tcells_subset)"
   ]
  },
  {
   "cell_type": "markdown",
   "metadata": {},
   "source": [
    "To create a list of the data variables we can get() the multiple (mget()) objects from the environment we saved them in. "
   ]
  },
  {
   "cell_type": "code",
   "execution_count": 5,
   "metadata": {},
   "outputs": [],
   "source": [
    "# Making list of data var's\n",
    "\n",
    "# monocytes_names <- ls(monocytes.env)\n",
    "tcells_names <- ls(tcells.env)\n",
    "\n",
    "# monocytes_list <- mget(monocytes_names, envir=monocytes.env)\n",
    "tcells_list <- mget(tcells_names, envir=tcells.env)\n"
   ]
  },
  {
   "cell_type": "markdown",
   "metadata": {},
   "source": [
    "We also need the sequence lengths of our lil methylomes. Felt like making them their own environments too ooooh do i love env's."
   ]
  },
  {
   "cell_type": "code",
   "execution_count": 6,
   "metadata": {},
   "outputs": [
    {
     "ename": "ERROR",
     "evalue": "Error in seqlengths(i): could not find function \"seqlengths\"\n",
     "output_type": "error",
     "traceback": [
      "Error in seqlengths(i): could not find function \"seqlengths\"\nTraceback:\n",
      "1. assign(nam, seqlengths(i), envir = tcell_seqs.env)"
     ]
    }
   ],
   "source": [
    "# Getting sequence lengths\n",
    "\n",
    "# mono_seqs.env <- new.env()\n",
    "tcell_seqs.env <- new.env()\n",
    "\n",
    "# file_count <- 1\n",
    "# for (i in monocytes_list) {\n",
    "#     nam <- paste(\"seqlengths_monos_\", file_count, sep = \"\")  # Creating new variable name for data\n",
    "#     assign(nam, seqlengths(i), envir=mono_seqs.env)    # Set new var name equal to retrieved R obj\n",
    "    \n",
    "#     file_count <- file_count +1\n",
    "# }\n",
    "file_count <- 1\n",
    "for (i in tcells_list) {\n",
    "    nam <- paste(\"seqlengths_tcells_\", file_count, sep = \"\")  # Creating new variable name for data\n",
    "    assign(nam, seqlengths(i), envir=tcell_seqs.env)    # Set new var name equal to retrieved R obj\n",
    "    \n",
    "    file_count <- file_count +1\n",
    "}\n",
    "\n"
   ]
  },
  {
   "cell_type": "code",
   "execution_count": 12,
   "metadata": {},
   "outputs": [],
   "source": [
    "# Making list of sequence length var's\n",
    "\n",
    "# monocytes_seq_names <- ls(mono_seqs.env)\n",
    "tcells_seq_names <- ls(tcell_seqs.env)\n",
    "\n",
    "# monocytes_seqs <- mget(monocytes_seq_names, envir=mono_seqs.env)\n",
    "tcells_seqs <- mget(tcells_seq_names, envir=tcell_seqs.env)\n"
   ]
  },
  {
   "cell_type": "markdown",
   "metadata": {},
   "source": [
    "# Segmenting the PMD's in the methylomes\n",
    "\n",
    "The cell types can be compared by their PMDs. The HMM will be trained on lucky number chromosome 7. With 2 cores it's faster (ONLY 8 MINS OR SO AS OPPOSED TO 10) but chrome crashes.\n"
   ]
  },
  {
   "cell_type": "code",
   "execution_count": null,
   "metadata": {},
   "outputs": [
    {
     "name": "stderr",
     "output_type": "stream",
     "text": [
      "training PMD-HMM on chromosome chr7\n",
      "performing viterbi segmentation\n"
     ]
    }
   ],
   "source": [
    "PMDsegments <- segmentPMDs(m=tcells_list[[1]], chr.sel=\"chr7\", seqLengths=tcells_seqs[[1]], num.cores=2)\n"
   ]
  },
  {
   "cell_type": "code",
   "execution_count": null,
   "metadata": {},
   "outputs": [],
   "source": []
  }
 ],
 "metadata": {
  "kernelspec": {
   "display_name": "R 3.6",
   "language": "R",
   "name": "ir"
  },
  "language_info": {
   "codemirror_mode": "r",
   "file_extension": ".r",
   "mimetype": "text/x-r-source",
   "name": "R",
   "pygments_lexer": "r",
   "version": "3.6.1"
  }
 },
 "nbformat": 4,
 "nbformat_minor": 4
}
