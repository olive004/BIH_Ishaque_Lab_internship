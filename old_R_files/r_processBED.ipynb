{
 "cells": [
  {
   "cell_type": "markdown",
   "metadata": {},
   "source": [
    "# Processing BED files \n",
    "\n",
    "As part of sending jobs to the cluster, we need a command line R script that takes as input BED file-type methylomes that have been segmented into partially methylated domains (PMDs), lowly methylated regions (LMRs), unmethylated regions (UMRs), and highly methylated domains (HMDs) by the authors of the paper \"A comprehensive analysis of 195 DNA methylomes reveals shared and cell-specific features of partially methylated domains\" (2018) [ https://www.ncbi.nlm.nih.gov/pmc/articles/PMC6161375/ ]. "
   ]
  },
  {
   "cell_type": "code",
   "execution_count": 11,
   "metadata": {},
   "outputs": [],
   "source": [
    "# Libraries\n",
    "\n",
    "library(rtracklayer)   # mainly for importing bed's"
   ]
  },
  {
   "cell_type": "code",
   "execution_count": 15,
   "metadata": {},
   "outputs": [
    {
     "name": "stdout",
     "output_type": "stream",
     "text": [
      "[1] \"/Users/oliviagallup/Desktop/Kode/Bioinf_Internship/PMD_tracks_original/GSE113405_41_Hf01_LiHe_Ct_WGBS_S_1.MethylSeekR.segments.bed.gz\"\n",
      "[2] \"/Users/oliviagallup/Desktop/Kode/Bioinf_Internship/PMD_tracks_original/GSE113405_Endo_prog_VB_S00UJK51.MethylSeekR.segments.bed.gz\"   \n"
     ]
    },
    {
     "data": {
      "text/plain": [
       "UCSC track '41_Hf01_LiHe_Ct_WGBS_S_1_corr.MethylSeekR'\n",
       "UCSCData object with 175028 ranges and 4 metadata columns:\n",
       "           seqnames            ranges strand |        name     score\n",
       "              <Rle>         <IRanges>  <Rle> | <character> <numeric>\n",
       "       [1]        1       10001-89540      * |         PMD   0.72672\n",
       "       [2]        1      89541-177417      * |         HMD  0.905588\n",
       "       [3]        1     227418-267719      * |         HMD  0.731017\n",
       "       [4]        1     317720-471368      * |         HMD  0.666667\n",
       "       [5]        1     521369-713484      * |         HMD  0.812319\n",
       "       ...      ...               ...    ... .         ...       ...\n",
       "  [175024]        Y 20193886-22369679      * |         PMD  0.860751\n",
       "  [175025]        Y 22419680-23901428      * |         PMD      <NA>\n",
       "  [175026]        Y 23951429-28819361      * |         PMD 0.0555557\n",
       "  [175027]        Y 58819362-58917656      * |         PMD      <NA>\n",
       "  [175028]        Y 58967657-59363566      * |         PMD  0.488866\n",
       "               itemRgb             thick\n",
       "           <character>         <IRanges>\n",
       "       [1]     #F4A582       10001-89540\n",
       "       [2]     #CA0020      89541-177417\n",
       "       [3]     #CA0020     227418-267719\n",
       "       [4]     #CA0020     317720-471368\n",
       "       [5]     #CA0020     521369-713484\n",
       "       ...         ...               ...\n",
       "  [175024]     #F4A582 20193886-22369679\n",
       "  [175025]     #F4A582 22419680-23901428\n",
       "  [175026]     #F4A582 23951429-28819361\n",
       "  [175027]     #F4A582 58819362-58917656\n",
       "  [175028]     #F4A582 58967657-59363566\n",
       "  -------\n",
       "  seqinfo: 24 sequences from an unspecified genome; no seqlengths"
      ]
     },
     "metadata": {},
     "output_type": "display_data"
    }
   ],
   "source": [
    "# Import BED files\n",
    "\n",
    "data_directory <- \"/Users/oliviagallup/Desktop/Kode/Bioinf_Internship/PMD_tracks_original\"\n",
    "pathnames = list.files(path = data_directory, pattern=\"bed.gz\", full.names = TRUE)\n",
    "\n",
    "print(pathnames)\n",
    "bed_file_DEEP = import(pathnames[1], format=\"bed\")\n",
    "bed_file_BP = import(pathnames[2], format=\"bed\")\n",
    "\n",
    "bed_file_DEEP\n"
   ]
  },
  {
   "cell_type": "code",
   "execution_count": null,
   "metadata": {},
   "outputs": [],
   "source": []
  }
 ],
 "metadata": {
  "kernelspec": {
   "display_name": "R 3.6",
   "language": "R",
   "name": "ir"
  },
  "language_info": {
   "codemirror_mode": "r",
   "file_extension": ".r",
   "mimetype": "text/x-r-source",
   "name": "R",
   "pygments_lexer": "r",
   "version": "3.6.1"
  }
 },
 "nbformat": 4,
 "nbformat_minor": 2
}
